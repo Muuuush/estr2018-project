{
 "cells": [
  {
   "cell_type": "code",
   "execution_count": 2,
   "metadata": {},
   "outputs": [
    {
     "name": "stderr",
     "output_type": "stream",
     "text": [
      "[nltk_data] Downloading package stopwords to\n",
      "[nltk_data]     C:\\Users\\24191\\AppData\\Roaming\\nltk_data...\n",
      "[nltk_data]   Package stopwords is already up-to-date!\n",
      "[nltk_data] Downloading package punkt_tab to\n",
      "[nltk_data]     C:\\Users\\24191\\AppData\\Roaming\\nltk_data...\n",
      "[nltk_data]   Package punkt_tab is already up-to-date!\n",
      "[nltk_data] Downloading package wordnet to\n",
      "[nltk_data]     C:\\Users\\24191\\AppData\\Roaming\\nltk_data...\n",
      "[nltk_data]   Package wordnet is already up-to-date!\n"
     ]
    }
   ],
   "source": [
    "import nltk\n",
    "import numpy as np\n",
    "import pandas as pd\n",
    "from matplotlib import pyplot as plt\n",
    "import os\n",
    "nltk.download(\"stopwords\")\n",
    "nltk.download(\"punkt_tab\")\n",
    "nltk.download('wordnet')\n",
    "\n",
    "from nltk.tokenize import word_tokenize\n",
    "from nltk.stem import PorterStemmer\n",
    "from nltk.corpus import stopwords"
   ]
  },
  {
   "cell_type": "code",
   "execution_count": 3,
   "metadata": {},
   "outputs": [
    {
     "name": "stdout",
     "output_type": "stream",
     "text": [
      "                                                    Text\n",
      "0      bromwell high is a cartoon comedy. it ran at t...\n",
      "1      homelessness (or houselessness as george carli...\n",
      "2      brilliant over-acting by lesley ann warren. be...\n",
      "3      this is easily the most underrated film inn th...\n",
      "4      this is not the typical mel brooks film. it wa...\n",
      "...                                                  ...\n",
      "12495  seeing as the vote average was pretty low, and...\n",
      "12496  the plot had some wretched, unbelievable twist...\n",
      "12497  i am amazed at how this movie(and most others ...\n",
      "12498  a christmas together actually came before my t...\n",
      "12499  working-class romantic drama from director mar...\n",
      "\n",
      "[12500 rows x 1 columns]\n"
     ]
    }
   ],
   "source": [
    "pos_text = pd.read_csv(\"./pos.csv\")\n",
    "neg_text = pd.read_csv(\"./neg.csv\")\n",
    "print(pos_text)"
   ]
  },
  {
   "cell_type": "code",
   "execution_count": 12,
   "metadata": {},
   "outputs": [
    {
     "name": "stdout",
     "output_type": "stream",
     "text": [
      "<FreqDist with 48447 samples and 2862971 outcomes>\n"
     ]
    }
   ],
   "source": [
    "stop_words= set(stopwords.words(\"English\"))\n",
    "stop_words.add(\"br\")\n",
    "stemmer = PorterStemmer()\n",
    "pos_words = []\n",
    "neg_words = []\n",
    "\n",
    "for sentence in pos_text[\"Text\"]:\n",
    "    words = word_tokenize(sentence)\n",
    "    words = [stemmer.stem(word) for word in words if word not in stop_words and word.isalpha()]\n",
    "    pos_words.append(words)\n",
    "for sentence in neg_text[\"Text\"]:\n",
    "    words = word_tokenize(sentence)\n",
    "    words = [stemmer.stem(word) for word in words if word not in stop_words and word.isalpha()]\n",
    "    neg_words.append(words)\n",
    "all_words = pos_words + neg_words\n",
    "all_word = nltk.FreqDist(w for words in all_words for w in words)\n",
    "print(all_word)"
   ]
  },
  {
   "cell_type": "code",
   "execution_count": 14,
   "metadata": {},
   "outputs": [
    {
     "name": "stdout",
     "output_type": "stream",
     "text": [
      "            word  freq\n",
      "0        bromwel     8\n",
      "1           high  1912\n",
      "2        cartoon   721\n",
      "3         comedi  3464\n",
      "4            ran   236\n",
      "...          ...   ...\n",
      "48377     frewer    11\n",
      "48389  longinidi     2\n",
      "48392       ajax     9\n",
      "48409    whishaw     3\n",
      "48445     raksha     2\n",
      "\n",
      "[30201 rows x 2 columns]\n",
      "[('movi', 50022), ('film', 46628), ('one', 26816), ('like', 22248), ('time', 15226), ('good', 14866), ('make', 14530), ('get', 14042), ('see', 13881), ('charact', 13873), ('watch', 13685), ('would', 13387), ('even', 12856), ('stori', 12732), ('realli', 11702), ('scene', 10306), ('well', 9874), ('look', 9720), ('show', 9676), ('much', 9611)]\n"
     ]
    },
    {
     "data": {
      "text/plain": [
       "<Axes: >"
      ]
     },
     "execution_count": 14,
     "metadata": {},
     "output_type": "execute_result"
    },
    {
     "data": {
      "image/png": "[encoded data removed]",
      "text/plain": [
       "<Figure size 640x480 with 1 Axes>"
      ]
     },
     "metadata": {},
     "output_type": "display_data"
    }
   ],
   "source": [
    "common = pd.DataFrame(all_word.items())\n",
    "common.columns = [\"word\", \"freq\"]\n",
    "common = common[common[\"freq\"] > 1]\n",
    "print(common)\n",
    "print(all_word.most_common(20))\n",
    "common.plot()"
   ]
  },
  {
   "cell_type": "code",
   "execution_count": 19,
   "metadata": {},
   "outputs": [],
   "source": [
    "words_txt = open(\"words.txt\", \"w\", encoding=\"utf-8\")\n",
    "words_txt.writelines(line + \"\\n\" for line in common[\"word\"].values)\n",
    "words_txt.close()"
   ]
  }
 ],
 "metadata": {
  "kernelspec": {
   "display_name": "Python 3",
   "language": "python",
   "name": "python3"
  },
  "language_info": {
   "codemirror_mode": {
    "name": "ipython",
    "version": 3
   },
   "file_extension": ".py",
   "mimetype": "text/x-python",
   "name": "python",
   "nbconvert_exporter": "python",
   "pygments_lexer": "ipython3",
   "version": "3.11.5"
  }
 },
 "nbformat": 4,
 "nbformat_minor": 2
}
